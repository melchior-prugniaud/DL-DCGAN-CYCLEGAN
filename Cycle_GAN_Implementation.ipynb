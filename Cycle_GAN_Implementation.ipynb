{
  "nbformat": 4,
  "nbformat_minor": 0,
  "metadata": {
    "colab": {
      "name": "Cycle GAN Implementation.ipynb",
      "provenance": [],
      "toc_visible": true,
      "include_colab_link": true
    },
    "kernelspec": {
      "name": "python3",
      "display_name": "Python 3"
    },
    "accelerator": "GPU",
    "widgets": {
      "application/vnd.jupyter.widget-state+json": {
        "548935875cc94523a906e2daa9524993": {
          "model_module": "@jupyter-widgets/controls",
          "model_name": "HBoxModel",
          "state": {
            "_view_name": "HBoxView",
            "_dom_classes": [],
            "_model_name": "HBoxModel",
            "_view_module": "@jupyter-widgets/controls",
            "_model_module_version": "1.5.0",
            "_view_count": null,
            "_view_module_version": "1.5.0",
            "box_style": "",
            "layout": "IPY_MODEL_b3efc17e807e4361a2971daaeb73916d",
            "_model_module": "@jupyter-widgets/controls",
            "children": [
              "IPY_MODEL_dee11bf189ff4c5faa6df8a354ae9053",
              "IPY_MODEL_6440be935c4c4158a17f511cdbc34674"
            ]
          }
        },
        "b3efc17e807e4361a2971daaeb73916d": {
          "model_module": "@jupyter-widgets/base",
          "model_name": "LayoutModel",
          "state": {
            "_view_name": "LayoutView",
            "grid_template_rows": null,
            "right": null,
            "justify_content": null,
            "_view_module": "@jupyter-widgets/base",
            "overflow": null,
            "_model_module_version": "1.2.0",
            "_view_count": null,
            "flex_flow": null,
            "width": null,
            "min_width": null,
            "border": null,
            "align_items": null,
            "bottom": null,
            "_model_module": "@jupyter-widgets/base",
            "top": null,
            "grid_column": null,
            "overflow_y": null,
            "overflow_x": null,
            "grid_auto_flow": null,
            "grid_area": null,
            "grid_template_columns": null,
            "flex": null,
            "_model_name": "LayoutModel",
            "justify_items": null,
            "grid_row": null,
            "max_height": null,
            "align_content": null,
            "visibility": null,
            "align_self": null,
            "height": null,
            "min_height": null,
            "padding": null,
            "grid_auto_rows": null,
            "grid_gap": null,
            "max_width": null,
            "order": null,
            "_view_module_version": "1.2.0",
            "grid_template_areas": null,
            "object_position": null,
            "object_fit": null,
            "grid_auto_columns": null,
            "margin": null,
            "display": null,
            "left": null
          }
        },
        "dee11bf189ff4c5faa6df8a354ae9053": {
          "model_module": "@jupyter-widgets/controls",
          "model_name": "IntProgressModel",
          "state": {
            "_view_name": "ProgressView",
            "style": "IPY_MODEL_649099c40c6e44489b5e086b6e590665",
            "_dom_classes": [],
            "description": "",
            "_model_name": "IntProgressModel",
            "bar_style": "success",
            "max": 1,
            "_view_module": "@jupyter-widgets/controls",
            "_model_module_version": "1.5.0",
            "value": 1,
            "_view_count": null,
            "_view_module_version": "1.5.0",
            "orientation": "horizontal",
            "min": 0,
            "description_tooltip": null,
            "_model_module": "@jupyter-widgets/controls",
            "layout": "IPY_MODEL_8cf67b73776a4f6ab7d874030ffcf0c6"
          }
        },
        "6440be935c4c4158a17f511cdbc34674": {
          "model_module": "@jupyter-widgets/controls",
          "model_name": "HTMLModel",
          "state": {
            "_view_name": "HTMLView",
            "style": "IPY_MODEL_3542a7cbf3544377a225301aeb3306a1",
            "_dom_classes": [],
            "description": "",
            "_model_name": "HTMLModel",
            "placeholder": "​",
            "_view_module": "@jupyter-widgets/controls",
            "_model_module_version": "1.5.0",
            "value": " 6586368/? [00:01&lt;00:00, 4491525.30it/s]",
            "_view_count": null,
            "_view_module_version": "1.5.0",
            "description_tooltip": null,
            "_model_module": "@jupyter-widgets/controls",
            "layout": "IPY_MODEL_0a92ea859e1644ff9bc0b71bb7969680"
          }
        },
        "649099c40c6e44489b5e086b6e590665": {
          "model_module": "@jupyter-widgets/controls",
          "model_name": "ProgressStyleModel",
          "state": {
            "_view_name": "StyleView",
            "_model_name": "ProgressStyleModel",
            "description_width": "initial",
            "_view_module": "@jupyter-widgets/base",
            "_model_module_version": "1.5.0",
            "_view_count": null,
            "_view_module_version": "1.2.0",
            "bar_color": null,
            "_model_module": "@jupyter-widgets/controls"
          }
        },
        "8cf67b73776a4f6ab7d874030ffcf0c6": {
          "model_module": "@jupyter-widgets/base",
          "model_name": "LayoutModel",
          "state": {
            "_view_name": "LayoutView",
            "grid_template_rows": null,
            "right": null,
            "justify_content": null,
            "_view_module": "@jupyter-widgets/base",
            "overflow": null,
            "_model_module_version": "1.2.0",
            "_view_count": null,
            "flex_flow": null,
            "width": null,
            "min_width": null,
            "border": null,
            "align_items": null,
            "bottom": null,
            "_model_module": "@jupyter-widgets/base",
            "top": null,
            "grid_column": null,
            "overflow_y": null,
            "overflow_x": null,
            "grid_auto_flow": null,
            "grid_area": null,
            "grid_template_columns": null,
            "flex": null,
            "_model_name": "LayoutModel",
            "justify_items": null,
            "grid_row": null,
            "max_height": null,
            "align_content": null,
            "visibility": null,
            "align_self": null,
            "height": null,
            "min_height": null,
            "padding": null,
            "grid_auto_rows": null,
            "grid_gap": null,
            "max_width": null,
            "order": null,
            "_view_module_version": "1.2.0",
            "grid_template_areas": null,
            "object_position": null,
            "object_fit": null,
            "grid_auto_columns": null,
            "margin": null,
            "display": null,
            "left": null
          }
        },
        "3542a7cbf3544377a225301aeb3306a1": {
          "model_module": "@jupyter-widgets/controls",
          "model_name": "DescriptionStyleModel",
          "state": {
            "_view_name": "StyleView",
            "_model_name": "DescriptionStyleModel",
            "description_width": "",
            "_view_module": "@jupyter-widgets/base",
            "_model_module_version": "1.5.0",
            "_view_count": null,
            "_view_module_version": "1.2.0",
            "_model_module": "@jupyter-widgets/controls"
          }
        },
        "0a92ea859e1644ff9bc0b71bb7969680": {
          "model_module": "@jupyter-widgets/base",
          "model_name": "LayoutModel",
          "state": {
            "_view_name": "LayoutView",
            "grid_template_rows": null,
            "right": null,
            "justify_content": null,
            "_view_module": "@jupyter-widgets/base",
            "overflow": null,
            "_model_module_version": "1.2.0",
            "_view_count": null,
            "flex_flow": null,
            "width": null,
            "min_width": null,
            "border": null,
            "align_items": null,
            "bottom": null,
            "_model_module": "@jupyter-widgets/base",
            "top": null,
            "grid_column": null,
            "overflow_y": null,
            "overflow_x": null,
            "grid_auto_flow": null,
            "grid_area": null,
            "grid_template_columns": null,
            "flex": null,
            "_model_name": "LayoutModel",
            "justify_items": null,
            "grid_row": null,
            "max_height": null,
            "align_content": null,
            "visibility": null,
            "align_self": null,
            "height": null,
            "min_height": null,
            "padding": null,
            "grid_auto_rows": null,
            "grid_gap": null,
            "max_width": null,
            "order": null,
            "_view_module_version": "1.2.0",
            "grid_template_areas": null,
            "object_position": null,
            "object_fit": null,
            "grid_auto_columns": null,
            "margin": null,
            "display": null,
            "left": null
          }
        },
        "d03e5a5f4b6b464db468dc64182724d6": {
          "model_module": "@jupyter-widgets/controls",
          "model_name": "HBoxModel",
          "state": {
            "_view_name": "HBoxView",
            "_dom_classes": [],
            "_model_name": "HBoxModel",
            "_view_module": "@jupyter-widgets/controls",
            "_model_module_version": "1.5.0",
            "_view_count": null,
            "_view_module_version": "1.5.0",
            "box_style": "",
            "layout": "IPY_MODEL_b5bcb792bfce40d098e1578dea6e63a4",
            "_model_module": "@jupyter-widgets/controls",
            "children": [
              "IPY_MODEL_7c1dbcd58ad641e8b71beb8ec4a25f43",
              "IPY_MODEL_8d6b88c489a44a86a8e72b31d446a824"
            ]
          }
        },
        "b5bcb792bfce40d098e1578dea6e63a4": {
          "model_module": "@jupyter-widgets/base",
          "model_name": "LayoutModel",
          "state": {
            "_view_name": "LayoutView",
            "grid_template_rows": null,
            "right": null,
            "justify_content": null,
            "_view_module": "@jupyter-widgets/base",
            "overflow": null,
            "_model_module_version": "1.2.0",
            "_view_count": null,
            "flex_flow": null,
            "width": null,
            "min_width": null,
            "border": null,
            "align_items": null,
            "bottom": null,
            "_model_module": "@jupyter-widgets/base",
            "top": null,
            "grid_column": null,
            "overflow_y": null,
            "overflow_x": null,
            "grid_auto_flow": null,
            "grid_area": null,
            "grid_template_columns": null,
            "flex": null,
            "_model_name": "LayoutModel",
            "justify_items": null,
            "grid_row": null,
            "max_height": null,
            "align_content": null,
            "visibility": null,
            "align_self": null,
            "height": null,
            "min_height": null,
            "padding": null,
            "grid_auto_rows": null,
            "grid_gap": null,
            "max_width": null,
            "order": null,
            "_view_module_version": "1.2.0",
            "grid_template_areas": null,
            "object_position": null,
            "object_fit": null,
            "grid_auto_columns": null,
            "margin": null,
            "display": null,
            "left": null
          }
        },
        "7c1dbcd58ad641e8b71beb8ec4a25f43": {
          "model_module": "@jupyter-widgets/controls",
          "model_name": "IntProgressModel",
          "state": {
            "_view_name": "ProgressView",
            "style": "IPY_MODEL_757852fe945f451fa2881b1bb5ab2a7c",
            "_dom_classes": [],
            "description": "",
            "_model_name": "IntProgressModel",
            "bar_style": "success",
            "max": 1,
            "_view_module": "@jupyter-widgets/controls",
            "_model_module_version": "1.5.0",
            "value": 1,
            "_view_count": null,
            "_view_module_version": "1.5.0",
            "orientation": "horizontal",
            "min": 0,
            "description_tooltip": null,
            "_model_module": "@jupyter-widgets/controls",
            "layout": "IPY_MODEL_b86686f8842943dca9e2f40fb29ad50d"
          }
        },
        "8d6b88c489a44a86a8e72b31d446a824": {
          "model_module": "@jupyter-widgets/controls",
          "model_name": "HTMLModel",
          "state": {
            "_view_name": "HTMLView",
            "style": "IPY_MODEL_44b355fe2f84477196935086d7ca70d2",
            "_dom_classes": [],
            "description": "",
            "_model_name": "HTMLModel",
            "placeholder": "​",
            "_view_module": "@jupyter-widgets/controls",
            "_model_module_version": "1.5.0",
            "value": " 1835008/? [00:00&lt;00:00, 3954244.68it/s]",
            "_view_count": null,
            "_view_module_version": "1.5.0",
            "description_tooltip": null,
            "_model_module": "@jupyter-widgets/controls",
            "layout": "IPY_MODEL_6a847ff832684a7a82a49da5579d8b13"
          }
        },
        "757852fe945f451fa2881b1bb5ab2a7c": {
          "model_module": "@jupyter-widgets/controls",
          "model_name": "ProgressStyleModel",
          "state": {
            "_view_name": "StyleView",
            "_model_name": "ProgressStyleModel",
            "description_width": "initial",
            "_view_module": "@jupyter-widgets/base",
            "_model_module_version": "1.5.0",
            "_view_count": null,
            "_view_module_version": "1.2.0",
            "bar_color": null,
            "_model_module": "@jupyter-widgets/controls"
          }
        },
        "b86686f8842943dca9e2f40fb29ad50d": {
          "model_module": "@jupyter-widgets/base",
          "model_name": "LayoutModel",
          "state": {
            "_view_name": "LayoutView",
            "grid_template_rows": null,
            "right": null,
            "justify_content": null,
            "_view_module": "@jupyter-widgets/base",
            "overflow": null,
            "_model_module_version": "1.2.0",
            "_view_count": null,
            "flex_flow": null,
            "width": null,
            "min_width": null,
            "border": null,
            "align_items": null,
            "bottom": null,
            "_model_module": "@jupyter-widgets/base",
            "top": null,
            "grid_column": null,
            "overflow_y": null,
            "overflow_x": null,
            "grid_auto_flow": null,
            "grid_area": null,
            "grid_template_columns": null,
            "flex": null,
            "_model_name": "LayoutModel",
            "justify_items": null,
            "grid_row": null,
            "max_height": null,
            "align_content": null,
            "visibility": null,
            "align_self": null,
            "height": null,
            "min_height": null,
            "padding": null,
            "grid_auto_rows": null,
            "grid_gap": null,
            "max_width": null,
            "order": null,
            "_view_module_version": "1.2.0",
            "grid_template_areas": null,
            "object_position": null,
            "object_fit": null,
            "grid_auto_columns": null,
            "margin": null,
            "display": null,
            "left": null
          }
        },
        "44b355fe2f84477196935086d7ca70d2": {
          "model_module": "@jupyter-widgets/controls",
          "model_name": "DescriptionStyleModel",
          "state": {
            "_view_name": "StyleView",
            "_model_name": "DescriptionStyleModel",
            "description_width": "",
            "_view_module": "@jupyter-widgets/base",
            "_model_module_version": "1.5.0",
            "_view_count": null,
            "_view_module_version": "1.2.0",
            "_model_module": "@jupyter-widgets/controls"
          }
        },
        "6a847ff832684a7a82a49da5579d8b13": {
          "model_module": "@jupyter-widgets/base",
          "model_name": "LayoutModel",
          "state": {
            "_view_name": "LayoutView",
            "grid_template_rows": null,
            "right": null,
            "justify_content": null,
            "_view_module": "@jupyter-widgets/base",
            "overflow": null,
            "_model_module_version": "1.2.0",
            "_view_count": null,
            "flex_flow": null,
            "width": null,
            "min_width": null,
            "border": null,
            "align_items": null,
            "bottom": null,
            "_model_module": "@jupyter-widgets/base",
            "top": null,
            "grid_column": null,
            "overflow_y": null,
            "overflow_x": null,
            "grid_auto_flow": null,
            "grid_area": null,
            "grid_template_columns": null,
            "flex": null,
            "_model_name": "LayoutModel",
            "justify_items": null,
            "grid_row": null,
            "max_height": null,
            "align_content": null,
            "visibility": null,
            "align_self": null,
            "height": null,
            "min_height": null,
            "padding": null,
            "grid_auto_rows": null,
            "grid_gap": null,
            "max_width": null,
            "order": null,
            "_view_module_version": "1.2.0",
            "grid_template_areas": null,
            "object_position": null,
            "object_fit": null,
            "grid_auto_columns": null,
            "margin": null,
            "display": null,
            "left": null
          }
        }
      }
    }
  },
  "cells": [
    {
      "cell_type": "markdown",
      "metadata": {
        "id": "view-in-github",
        "colab_type": "text"
      },
      "source": [
        "<a href=\"https://colab.research.google.com/github/pihk94/DeepLearning/blob/master/Cycle_GAN_Implementation.ipynb\" target=\"_parent\"><img src=\"https://colab.research.google.com/assets/colab-badge.svg\" alt=\"Open In Colab\"/></a>"
      ]
    },
    {
      "cell_type": "markdown",
      "metadata": {
        "id": "qeOpAJ53RD1K",
        "colab_type": "text"
      },
      "source": [
        "# Deep Learning : Generative Adversarial Networksand Cycle-GAN\n",
        "### May 2020 / ENSAE \n",
        "###### Melchior Prugniaud\n",
        "\n",
        "The purpose of this notebook is to reproduce the Cycle Gan presented [here](https://junyanz.github.io/CycleGAN/) which is an Image to Image translation and transform the MNIST dataset to the USPS. \n",
        "\n",
        "Following the [proposed assignment](http://www.cs.toronto.edu/~rgrosse/courses/csc421_2019/assignments/assignment4.pdf), we will :\n",
        "\n",
        "* Implement Deep Convolutionnal GAN\n",
        "\n",
        "* Implement Cycle GAN\n",
        "\n",
        "But first of all we need to import some packages and both dataset. I will use tensorflow and keras to do it."
      ]
    },
    {
      "cell_type": "code",
      "metadata": {
        "id": "V5QqE3vnEVGW",
        "colab_type": "code",
        "colab": {}
      },
      "source": [
        "!pip install git+https://www.github.com/keras-team/keras-contrib.git"
      ],
      "execution_count": 0,
      "outputs": []
    },
    {
      "cell_type": "code",
      "metadata": {
        "id": "e2xT8n9yT8kD",
        "colab_type": "code",
        "colab": {}
      },
      "source": [
        "import tensorflow as tf\n",
        "from tensorflow.keras.backend import resize_images\n",
        "from tensorflow.keras.datasets import mnist\n",
        "import matplotlib.pyplot as plt\n",
        "import cv2\n",
        "import numpy as np"
      ],
      "execution_count": 0,
      "outputs": []
    },
    {
      "cell_type": "markdown",
      "metadata": {
        "id": "i0EfT--Qy3T8",
        "colab_type": "text"
      },
      "source": [
        "# Prerequisite Datasets preprocessing"
      ]
    },
    {
      "cell_type": "markdown",
      "metadata": {
        "id": "HdzX7AT9WNGJ",
        "colab_type": "text"
      },
      "source": [
        "### Load MNIST Dataset\n",
        "MNIST dataset consist of 70 000 digits of size 28x28."
      ]
    },
    {
      "cell_type": "code",
      "metadata": {
        "id": "yyx_hibpVapH",
        "colab_type": "code",
        "outputId": "ca9f40d0-45be-44b6-91ed-4b30ce927b70",
        "colab": {
          "base_uri": "https://localhost:8080/",
          "height": 68
        }
      },
      "source": [
        "train_mnist,test_mnist = mnist.load_data()\n",
        "train_mnist[0].shape,train_mnist[1].shape"
      ],
      "execution_count": 2,
      "outputs": [
        {
          "output_type": "stream",
          "text": [
            "Downloading data from https://storage.googleapis.com/tensorflow/tf-keras-datasets/mnist.npz\n",
            "11493376/11490434 [==============================] - 0s 0us/step\n"
          ],
          "name": "stdout"
        },
        {
          "output_type": "execute_result",
          "data": {
            "text/plain": [
              "((60000, 28, 28), (60000,))"
            ]
          },
          "metadata": {
            "tags": []
          },
          "execution_count": 2
        }
      ]
    },
    {
      "cell_type": "code",
      "metadata": {
        "id": "oJgoVAXmgdNL",
        "colab_type": "code",
        "colab": {}
      },
      "source": [
        "img_mnist,label_mnist = train_mnist[0],train_mnist[1]\n",
        "imgs,labels = [],[]\n",
        "j=0\n",
        "while len(imgs)<=9:\n",
        "  for i in range(len(img_mnist)):\n",
        "    if not label_mnist[i] in labels and label_mnist[i] ==j:\n",
        "      labels.append(label_mnist[i])\n",
        "      imgs.append(img_mnist[i])\n",
        "      j+=1"
      ],
      "execution_count": 0,
      "outputs": []
    },
    {
      "cell_type": "code",
      "metadata": {
        "id": "tqaWEOObdoao",
        "colab_type": "code",
        "outputId": "d855ee70-4a42-48ee-a16e-b143df9eee9b",
        "colab": {
          "base_uri": "https://localhost:8080/",
          "height": 121
        }
      },
      "source": [
        "plt.figure(figsize =(12,12))\n",
        "for i in range(1,11):\n",
        "  plt.subplot(1,10,i)\n",
        "  plt.imshow(imgs[i-1],cmap='gray',interpolation='none')\n",
        "  plt.title(\"Label: {}\".format(labels[i-1]))\n",
        "  plt.xticks([])\n",
        "  plt.yticks([])\n",
        "plt.tight_layout()"
      ],
      "execution_count": 4,
      "outputs": [
        {
          "output_type": "display_data",
          "data": {
            "image/png": "[encoded data removed]",
            "text/plain": [
              "<Figure size 864x864 with 10 Axes>"
            ]
          },
          "metadata": {
            "tags": []
          }
        }
      ]
    },
    {
      "cell_type": "markdown",
      "metadata": {
        "id": "6CtQ9uZvyF6J",
        "colab_type": "text"
      },
      "source": [
        "Let's try to resize our image to 32 x 32 as asked in the input from the assignment.\n"
      ]
    },
    {
      "cell_type": "code",
      "metadata": {
        "id": "UqTexTJ1yFRg",
        "colab_type": "code",
        "outputId": "0d0a51f4-afd8-4c06-888a-9e59811df94e",
        "colab": {
          "base_uri": "https://localhost:8080/",
          "height": 121
        }
      },
      "source": [
        "plt.figure(figsize =(12,12))\n",
        "for i in range(1,11):\n",
        "  plt.subplot(1,10,i)\n",
        "  plt.imshow(cv2.resize(imgs[i-1], dsize=(32,32), interpolation=cv2.INTER_CUBIC),cmap='gray',interpolation='none')\n",
        "  plt.title(\"Label: {}\".format(labels[i-1]))\n",
        "  plt.xticks([])\n",
        "  plt.yticks([])\n",
        "plt.tight_layout()"
      ],
      "execution_count": 5,
      "outputs": [
        {
          "output_type": "display_data",
          "data": {
            "image/png": "[encoded data removed]",
            "text/plain": [
              "<Figure size 864x864 with 10 Axes>"
            ]
          },
          "metadata": {
            "tags": []
          }
        }
      ]
    },
    {
      "cell_type": "markdown",
      "metadata": {
        "id": "8w6JoStVyiQr",
        "colab_type": "text"
      },
      "source": [
        "Looks like it's working good, we will apply it on a function to prepare datasets.\n",
        "### Load USPS dataset\n",
        "\n",
        "Let's now load the USPS dataset, unfortunately keras does not have the dataset, so we load it with torchvision.\n"
      ]
    },
    {
      "cell_type": "code",
      "metadata": {
        "id": "GmYrKXLwufNF",
        "colab_type": "code",
        "colab": {
          "base_uri": "https://localhost:8080/",
          "height": 149,
          "referenced_widgets": [
            "548935875cc94523a906e2daa9524993",
            "b3efc17e807e4361a2971daaeb73916d",
            "dee11bf189ff4c5faa6df8a354ae9053",
            "6440be935c4c4158a17f511cdbc34674",
            "649099c40c6e44489b5e086b6e590665",
            "8cf67b73776a4f6ab7d874030ffcf0c6",
            "3542a7cbf3544377a225301aeb3306a1",
            "0a92ea859e1644ff9bc0b71bb7969680",
            "d03e5a5f4b6b464db468dc64182724d6",
            "b5bcb792bfce40d098e1578dea6e63a4",
            "7c1dbcd58ad641e8b71beb8ec4a25f43",
            "8d6b88c489a44a86a8e72b31d446a824",
            "757852fe945f451fa2881b1bb5ab2a7c",
            "b86686f8842943dca9e2f40fb29ad50d",
            "44b355fe2f84477196935086d7ca70d2",
            "6a847ff832684a7a82a49da5579d8b13"
          ]
        },
        "outputId": "9b65e9e5-3ca7-44c4-aacd-0bbba473e269"
      },
      "source": [
        "from torchvision import datasets\n",
        "train_usps = datasets.USPS(root='content/',download=True,train=True)\n",
        "test_usps = datasets.USPS(root='content/',download=True,train=False)"
      ],
      "execution_count": 8,
      "outputs": [
        {
          "output_type": "stream",
          "text": [
            "Downloading https://www.csie.ntu.edu.tw/~cjlin/libsvmtools/datasets/multiclass/usps.bz2 to content/usps.bz2\n"
          ],
          "name": "stdout"
        },
        {
          "output_type": "display_data",
          "data": {
            "application/vnd.jupyter.widget-view+json": {
              "model_id": "548935875cc94523a906e2daa9524993",
              "version_minor": 0,
              "version_major": 2
            },
            "text/plain": [
              "HBox(children=(IntProgress(value=1, bar_style='info', max=1), HTML(value='')))"
            ]
          },
          "metadata": {
            "tags": []
          }
        },
        {
          "output_type": "stream",
          "text": [
            "\n",
            "Downloading https://www.csie.ntu.edu.tw/~cjlin/libsvmtools/datasets/multiclass/usps.t.bz2 to content/usps.t.bz2\n"
          ],
          "name": "stdout"
        },
        {
          "output_type": "display_data",
          "data": {
            "application/vnd.jupyter.widget-view+json": {
              "model_id": "d03e5a5f4b6b464db468dc64182724d6",
              "version_minor": 0,
              "version_major": 2
            },
            "text/plain": [
              "HBox(children=(IntProgress(value=1, bar_style='info', max=1), HTML(value='')))"
            ]
          },
          "metadata": {
            "tags": []
          }
        },
        {
          "output_type": "stream",
          "text": [
            "\n"
          ],
          "name": "stdout"
        }
      ]
    },
    {
      "cell_type": "code",
      "metadata": {
        "id": "QgV-hwxJxJec",
        "colab_type": "code",
        "colab": {
          "base_uri": "https://localhost:8080/",
          "height": 34
        },
        "outputId": "35314362-fa36-41a5-df81-8130239ad15b"
      },
      "source": [
        "train_usps[0]"
      ],
      "execution_count": 26,
      "outputs": [
        {
          "output_type": "execute_result",
          "data": {
            "text/plain": [
              "(<PIL.Image.Image image mode=L size=16x16 at 0x7F025A020278>, 6)"
            ]
          },
          "metadata": {
            "tags": []
          },
          "execution_count": 26
        }
      ]
    },
    {
      "cell_type": "code",
      "metadata": {
        "id": "9HVIKuwMvEIn",
        "colab_type": "code",
        "colab": {}
      },
      "source": [
        "data = train_usps\n",
        "imgs,labels = [],[]\n",
        "j=0\n",
        "while len(imgs)<=9:\n",
        "  for i in range(len(data)):\n",
        "    if not data[i][1] in labels and data[i][1] ==j:\n",
        "      labels.append(data[i][1])\n",
        "      imgs.append(data[i][0])\n",
        "      j+=1"
      ],
      "execution_count": 0,
      "outputs": []
    },
    {
      "cell_type": "code",
      "metadata": {
        "id": "fKTe4faVv7aC",
        "colab_type": "code",
        "colab": {
          "base_uri": "https://localhost:8080/",
          "height": 121
        },
        "outputId": "7a6c4147-eadd-415f-8700-a9f1ac4f02bb"
      },
      "source": [
        "plt.figure(figsize =(12,12))\n",
        "for i in range(1,11):\n",
        "  plt.subplot(1,10,i)\n",
        "  plt.imshow(imgs[i-1],cmap='gray',interpolation='none')\n",
        "  plt.title(\"Label: {}\".format(labels[i-1]))\n",
        "  plt.xticks([])\n",
        "  plt.yticks([])\n",
        "plt.tight_layout()"
      ],
      "execution_count": 25,
      "outputs": [
        {
          "output_type": "display_data",
          "data": {
            "image/png": "[encoded data removed]",
            "text/plain": [
              "<Figure size 864x864 with 10 Axes>"
            ]
          },
          "metadata": {
            "tags": []
          }
        }
      ]
    },
    {
      "cell_type": "markdown",
      "metadata": {
        "id": "3BtTE8i9xHDj",
        "colab_type": "text"
      },
      "source": [
        "Let's reshape again this 16x16 imgs to 32x32"
      ]
    },
    {
      "cell_type": "code",
      "metadata": {
        "id": "xUkRjd_LxVS4",
        "colab_type": "code",
        "colab": {
          "base_uri": "https://localhost:8080/",
          "height": 121
        },
        "outputId": "0150a8bc-b060-44b9-8dbe-d039e037161d"
      },
      "source": [
        "plt.figure(figsize =(12,12))\n",
        "for i in range(1,11):\n",
        "  plt.subplot(1,10,i)\n",
        "  plt.imshow(imgs[i-1].resize((32,32)),cmap='gray',interpolation='none')\n",
        "  plt.title(\"Label: {}\".format(labels[i-1]))\n",
        "  plt.xticks([])\n",
        "  plt.yticks([])\n",
        "plt.tight_layout()"
      ],
      "execution_count": 29,
      "outputs": [
        {
          "output_type": "display_data",
          "data": {
            "image/png": "[encoded data removed]",
            "text/plain": [
              "<Figure size 864x864 with 10 Axes>"
            ]
          },
          "metadata": {
            "tags": []
          }
        }
      ]
    },
    {
      "cell_type": "markdown",
      "metadata": {
        "id": "rOKBQ6T_yGFq",
        "colab_type": "text"
      },
      "source": [
        "## Prepare datasets loader\n",
        "\n",
        "Here is two function , one for each dataset to load data in the good format for our networks."
      ]
    },
    {
      "cell_type": "code",
      "metadata": {
        "id": "xfXOLij6zKJx",
        "colab_type": "code",
        "colab": {}
      },
      "source": [
        ""
      ],
      "execution_count": 0,
      "outputs": []
    },
    {
      "cell_type": "markdown",
      "metadata": {
        "id": "CmqLGeQq5sEY",
        "colab_type": "text"
      },
      "source": [
        "# Part 1: Deep Convolutional GAN (DCGAN)\n",
        "\n",
        "In the first part, the assignment ask to implement the DCGAN.\n",
        "We will follow this blueprint : \n",
        "\n",
        "* Create discriminator\n",
        "\n",
        "* Create generator\n",
        "\n",
        "* Create the training procedure\n"
      ]
    },
    {
      "cell_type": "markdown",
      "metadata": {
        "id": "Z4dvAJLYS9_r",
        "colab_type": "text"
      },
      "source": [
        "## Discriminator\n",
        "\n",
        "We have to reproduce this architecture : \n",
        "\n",
        "\n",
        "![image.png](data:image/png;base64,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)"
      ]
    },
    {
      "cell_type": "code",
      "metadata": {
        "id": "iDHX_vf34lJz",
        "colab_type": "code",
        "colab": {}
      },
      "source": [
        "from keras.layers import Conv2D, LeakyReLU, Activation, Concatenate, BatchNormalization\n",
        "from keras.models import Input\n",
        "from keras.initializers import RandomNormal\n",
        "from keras_contrib.layers.normalization.instancenormalization import InstanceNormalization\n",
        "def discriminator(input_shape):\n",
        "  init = RandomNormal(stddev=0.02)\n",
        "  Input_image= Input(shape= input_shape)\n",
        "  padding = 'same'\n",
        "  kernels = (4,4)\n",
        "  strides = (2,2)\n",
        "  conv1 = Conv2D(64,kernels,strides,padding,kernel_initializer=init)(Input_image)\n",
        "  conv1 = LeakyReLU(alpha=0.05)(conv1)\n",
        "  conv2 = Conv2D(128,kernels,strides,padding,kernel_initializer=init)(conv1)\n"
      ],
      "execution_count": 0,
      "outputs": []
    },
    {
      "cell_type": "code",
      "metadata": {
        "id": "virB6H0CCMDR",
        "colab_type": "code",
        "colab": {}
      },
      "source": [
        "from keras_contrib.layers.normalization.instancenormalization import InstanceNormalization\n"
      ],
      "execution_count": 0,
      "outputs": []
    },
    {
      "cell_type": "code",
      "metadata": {
        "id": "nRps2vbd73_-",
        "colab_type": "code",
        "colab": {}
      },
      "source": [
        "\n",
        "Conv2D()"
      ],
      "execution_count": 0,
      "outputs": []
    }
  ]
}