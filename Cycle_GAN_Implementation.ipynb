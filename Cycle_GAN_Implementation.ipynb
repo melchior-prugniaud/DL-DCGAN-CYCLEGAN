{
  "nbformat": 4,
  "nbformat_minor": 0,
  "metadata": {
    "colab": {
      "name": "Cycle GAN Implementation.ipynb",
      "provenance": [],
      "include_colab_link": true
    },
    "kernelspec": {
      "name": "python3",
      "display_name": "Python 3"
    },
    "accelerator": "GPU"
  },
  "cells": [
    {
      "cell_type": "markdown",
      "metadata": {
        "id": "view-in-github",
        "colab_type": "text"
      },
      "source": [
        "<a href=\"https://colab.research.google.com/github/pihk94/DeepLearning/blob/master/Cycle_GAN_Implementation.ipynb\" target=\"_parent\"><img src=\"https://colab.research.google.com/assets/colab-badge.svg\" alt=\"Open In Colab\"/></a>"
      ]
    },
    {
      "cell_type": "markdown",
      "metadata": {
        "id": "qeOpAJ53RD1K",
        "colab_type": "text"
      },
      "source": [
        "# Deep Learning : Generative Adversarial Networksand Cycle-GAN\n",
        "### May 2020 / ENSAE \n",
        "###### Melchior Prugniaud\n",
        "\n",
        "The purpose of this notebook is to reproduce the Cycle Gan presented [here](https://junyanz.github.io/CycleGAN/) which is an Image to Image translation and transform the MNIST dataset to the USPS. \n",
        "\n",
        "Following the [proposed assignment](http://www.cs.toronto.edu/~rgrosse/courses/csc421_2019/assignments/assignment4.pdf), we will :\n",
        "\n",
        "* Implement Deep Convolutionnal GAN\n",
        "\n",
        "* Implement Cycle GAN\n",
        "\n",
        "But first of all we need to import some packages and both dataset. I will use tensorflow and keras to do it."
      ]
    },
    {
      "cell_type": "code",
      "metadata": {
        "id": "e2xT8n9yT8kD",
        "colab_type": "code",
        "colab": {}
      },
      "source": [
        "import tensorflow as tf\n",
        "from tensorflow.keras.backend import resize_images\n",
        "from tensorflow.keras.datasets import mnist\n",
        "import matplotlib.pyplot as plt\n",
        "import cv2\n",
        "import numpy as np"
      ],
      "execution_count": 0,
      "outputs": []
    },
    {
      "cell_type": "markdown",
      "metadata": {
        "id": "HdzX7AT9WNGJ",
        "colab_type": "text"
      },
      "source": [
        "MNIST images are 28x28 while USPS are "
      ]
    },
    {
      "cell_type": "code",
      "metadata": {
        "id": "yyx_hibpVapH",
        "colab_type": "code",
        "colab": {
          "base_uri": "https://localhost:8080/",
          "height": 34
        },
        "outputId": "565efd6c-edf5-4c58-cf6c-15988c676ad3"
      },
      "source": [
        "train_mnist,test_mnist = mnist.load_data()\n",
        "train_mnist[0].shape,train_mnist[1].shape"
      ],
      "execution_count": 73,
      "outputs": [
        {
          "output_type": "execute_result",
          "data": {
            "text/plain": [
              "((60000, 28, 28), (60000,))"
            ]
          },
          "metadata": {
            "tags": []
          },
          "execution_count": 73
        }
      ]
    },
    {
      "cell_type": "code",
      "metadata": {
        "id": "oJgoVAXmgdNL",
        "colab_type": "code",
        "colab": {}
      },
      "source": [
        "img_mnist,label_mnist = train_mnist[0],train_mnist[1]\n",
        "imgs,labels = [],[]\n",
        "j=0\n",
        "while len(imgs)<=9:\n",
        "  for i in range(len(img_mnist)):\n",
        "    if not label_mnist[i] in labels and label_mnist[i] ==j:\n",
        "      labels.append(label_mnist[i])\n",
        "      imgs.append(img_mnist[i])\n",
        "      j+=1"
      ],
      "execution_count": 0,
      "outputs": []
    },
    {
      "cell_type": "code",
      "metadata": {
        "id": "tqaWEOObdoao",
        "colab_type": "code",
        "colab": {
          "base_uri": "https://localhost:8080/",
          "height": 121
        },
        "outputId": "b2e59fa0-6769-4816-dd8d-dc644da7339a"
      },
      "source": [
        "plt.figure(figsize =(12,12))\n",
        "for i in range(1,11):\n",
        "  plt.subplot(1,10,i)\n",
        "  plt.imshow(imgs[i-1],cmap='gray',interpolation='none')\n",
        "  plt.title(\"Label: {}\".format(labels[i-1]))\n",
        "  plt.xticks([])\n",
        "  plt.yticks([])\n",
        "plt.tight_layout()"
      ],
      "execution_count": 69,
      "outputs": [
        {
          "output_type": "display_data",
          "data": {
            "image/png": "[encoded data removed]",
            "text/plain": [
              "<Figure size 864x864 with 10 Axes>"
            ]
          },
          "metadata": {
            "tags": []
          }
        }
      ]
    },
    {
      "cell_type": "markdown",
      "metadata": {
        "id": "6CtQ9uZvyF6J",
        "colab_type": "text"
      },
      "source": [
        "Let's try to resize our image to 32 x 32 as asked in the input from the assignment.\n"
      ]
    },
    {
      "cell_type": "code",
      "metadata": {
        "id": "UqTexTJ1yFRg",
        "colab_type": "code",
        "colab": {
          "base_uri": "https://localhost:8080/",
          "height": 121
        },
        "outputId": "78f29802-3025-409b-ac56-04245c6fa0e8"
      },
      "source": [
        "plt.figure(figsize =(12,12))\n",
        "for i in range(1,11):\n",
        "  plt.subplot(1,10,i)\n",
        "  plt.imshow(cv2.resize(imgs[i-1], dsize=(32,32), interpolation=cv2.INTER_CUBIC),cmap='gray',interpolation='none')\n",
        "  plt.title(\"Label: {}\".format(labels[i-1]))\n",
        "  plt.xticks([])\n",
        "  plt.yticks([])\n",
        "plt.tight_layout()"
      ],
      "execution_count": 88,
      "outputs": [
        {
          "output_type": "display_data",
          "data": {
            "image/png": "[encoded data removed]",
            "text/plain": [
              "<Figure size 864x864 with 10 Axes>"
            ]
          },
          "metadata": {
            "tags": []
          }
        }
      ]
    },
    {
      "cell_type": "markdown",
      "metadata": {
        "id": "8w6JoStVyiQr",
        "colab_type": "text"
      },
      "source": [
        "Looks like it's working good, we will apply it on a function to prepare datasets."
      ]
    },
    {
      "cell_type": "markdown",
      "metadata": {
        "id": "Z4dvAJLYS9_r",
        "colab_type": "text"
      },
      "source": [
        "## DCGAN\n",
        "\n"
      ]
    }
  ]
}