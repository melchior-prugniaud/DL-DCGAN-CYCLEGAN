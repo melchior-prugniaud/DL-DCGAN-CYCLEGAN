{
  "nbformat": 4,
  "nbformat_minor": 0,
  "metadata": {
    "colab": {
      "name": "Cycle GAN Implementation.ipynb",
      "provenance": [],
      "toc_visible": true,
      "include_colab_link": true
    },
    "kernelspec": {
      "name": "python3",
      "display_name": "Python 3"
    },
    "accelerator": "GPU",
    "widgets": {
      "application/vnd.jupyter.widget-state+json": {
        "548935875cc94523a906e2daa9524993": {
          "model_module": "@jupyter-widgets/controls",
          "model_name": "HBoxModel",
          "state": {
            "_view_name": "HBoxView",
            "_dom_classes": [],
            "_model_name": "HBoxModel",
            "_view_module": "@jupyter-widgets/controls",
            "_model_module_version": "1.5.0",
            "_view_count": null,
            "_view_module_version": "1.5.0",
            "box_style": "",
            "layout": "IPY_MODEL_b3efc17e807e4361a2971daaeb73916d",
            "_model_module": "@jupyter-widgets/controls",
            "children": [
              "IPY_MODEL_dee11bf189ff4c5faa6df8a354ae9053",
              "IPY_MODEL_6440be935c4c4158a17f511cdbc34674"
            ]
          }
        },
        "b3efc17e807e4361a2971daaeb73916d": {
          "model_module": "@jupyter-widgets/base",
          "model_name": "LayoutModel",
          "state": {
            "_view_name": "LayoutView",
            "grid_template_rows": null,
            "right": null,
            "justify_content": null,
            "_view_module": "@jupyter-widgets/base",
            "overflow": null,
            "_model_module_version": "1.2.0",
            "_view_count": null,
            "flex_flow": null,
            "width": null,
            "min_width": null,
            "border": null,
            "align_items": null,
            "bottom": null,
            "_model_module": "@jupyter-widgets/base",
            "top": null,
            "grid_column": null,
            "overflow_y": null,
            "overflow_x": null,
            "grid_auto_flow": null,
            "grid_area": null,
            "grid_template_columns": null,
            "flex": null,
            "_model_name": "LayoutModel",
            "justify_items": null,
            "grid_row": null,
            "max_height": null,
            "align_content": null,
            "visibility": null,
            "align_self": null,
            "height": null,
            "min_height": null,
            "padding": null,
            "grid_auto_rows": null,
            "grid_gap": null,
            "max_width": null,
            "order": null,
            "_view_module_version": "1.2.0",
            "grid_template_areas": null,
            "object_position": null,
            "object_fit": null,
            "grid_auto_columns": null,
            "margin": null,
            "display": null,
            "left": null
          }
        },
        "dee11bf189ff4c5faa6df8a354ae9053": {
          "model_module": "@jupyter-widgets/controls",
          "model_name": "IntProgressModel",
          "state": {
            "_view_name": "ProgressView",
            "style": "IPY_MODEL_649099c40c6e44489b5e086b6e590665",
            "_dom_classes": [],
            "description": "",
            "_model_name": "IntProgressModel",
            "bar_style": "success",
            "max": 1,
            "_view_module": "@jupyter-widgets/controls",
            "_model_module_version": "1.5.0",
            "value": 1,
            "_view_count": null,
            "_view_module_version": "1.5.0",
            "orientation": "horizontal",
            "min": 0,
            "description_tooltip": null,
            "_model_module": "@jupyter-widgets/controls",
            "layout": "IPY_MODEL_8cf67b73776a4f6ab7d874030ffcf0c6"
          }
        },
        "6440be935c4c4158a17f511cdbc34674": {
          "model_module": "@jupyter-widgets/controls",
          "model_name": "HTMLModel",
          "state": {
            "_view_name": "HTMLView",
            "style": "IPY_MODEL_3542a7cbf3544377a225301aeb3306a1",
            "_dom_classes": [],
            "description": "",
            "_model_name": "HTMLModel",
            "placeholder": "​",
            "_view_module": "@jupyter-widgets/controls",
            "_model_module_version": "1.5.0",
            "value": " 6586368/? [00:01&lt;00:00, 4491525.30it/s]",
            "_view_count": null,
            "_view_module_version": "1.5.0",
            "description_tooltip": null,
            "_model_module": "@jupyter-widgets/controls",
            "layout": "IPY_MODEL_0a92ea859e1644ff9bc0b71bb7969680"
          }
        },
        "649099c40c6e44489b5e086b6e590665": {
          "model_module": "@jupyter-widgets/controls",
          "model_name": "ProgressStyleModel",
          "state": {
            "_view_name": "StyleView",
            "_model_name": "ProgressStyleModel",
            "description_width": "initial",
            "_view_module": "@jupyter-widgets/base",
            "_model_module_version": "1.5.0",
            "_view_count": null,
            "_view_module_version": "1.2.0",
            "bar_color": null,
            "_model_module": "@jupyter-widgets/controls"
          }
        },
        "8cf67b73776a4f6ab7d874030ffcf0c6": {
          "model_module": "@jupyter-widgets/base",
          "model_name": "LayoutModel",
          "state": {
            "_view_name": "LayoutView",
            "grid_template_rows": null,
            "right": null,
            "justify_content": null,
            "_view_module": "@jupyter-widgets/base",
            "overflow": null,
            "_model_module_version": "1.2.0",
            "_view_count": null,
            "flex_flow": null,
            "width": null,
            "min_width": null,
            "border": null,
            "align_items": null,
            "bottom": null,
            "_model_module": "@jupyter-widgets/base",
            "top": null,
            "grid_column": null,
            "overflow_y": null,
            "overflow_x": null,
            "grid_auto_flow": null,
            "grid_area": null,
            "grid_template_columns": null,
            "flex": null,
            "_model_name": "LayoutModel",
            "justify_items": null,
            "grid_row": null,
            "max_height": null,
            "align_content": null,
            "visibility": null,
            "align_self": null,
            "height": null,
            "min_height": null,
            "padding": null,
            "grid_auto_rows": null,
            "grid_gap": null,
            "max_width": null,
            "order": null,
            "_view_module_version": "1.2.0",
            "grid_template_areas": null,
            "object_position": null,
            "object_fit": null,
            "grid_auto_columns": null,
            "margin": null,
            "display": null,
            "left": null
          }
        },
        "3542a7cbf3544377a225301aeb3306a1": {
          "model_module": "@jupyter-widgets/controls",
          "model_name": "DescriptionStyleModel",
          "state": {
            "_view_name": "StyleView",
            "_model_name": "DescriptionStyleModel",
            "description_width": "",
            "_view_module": "@jupyter-widgets/base",
            "_model_module_version": "1.5.0",
            "_view_count": null,
            "_view_module_version": "1.2.0",
            "_model_module": "@jupyter-widgets/controls"
          }
        },
        "0a92ea859e1644ff9bc0b71bb7969680": {
          "model_module": "@jupyter-widgets/base",
          "model_name": "LayoutModel",
          "state": {
            "_view_name": "LayoutView",
            "grid_template_rows": null,
            "right": null,
            "justify_content": null,
            "_view_module": "@jupyter-widgets/base",
            "overflow": null,
            "_model_module_version": "1.2.0",
            "_view_count": null,
            "flex_flow": null,
            "width": null,
            "min_width": null,
            "border": null,
            "align_items": null,
            "bottom": null,
            "_model_module": "@jupyter-widgets/base",
            "top": null,
            "grid_column": null,
            "overflow_y": null,
            "overflow_x": null,
            "grid_auto_flow": null,
            "grid_area": null,
            "grid_template_columns": null,
            "flex": null,
            "_model_name": "LayoutModel",
            "justify_items": null,
            "grid_row": null,
            "max_height": null,
            "align_content": null,
            "visibility": null,
            "align_self": null,
            "height": null,
            "min_height": null,
            "padding": null,
            "grid_auto_rows": null,
            "grid_gap": null,
            "max_width": null,
            "order": null,
            "_view_module_version": "1.2.0",
            "grid_template_areas": null,
            "object_position": null,
            "object_fit": null,
            "grid_auto_columns": null,
            "margin": null,
            "display": null,
            "left": null
          }
        },
        "d03e5a5f4b6b464db468dc64182724d6": {
          "model_module": "@jupyter-widgets/controls",
          "model_name": "HBoxModel",
          "state": {
            "_view_name": "HBoxView",
            "_dom_classes": [],
            "_model_name": "HBoxModel",
            "_view_module": "@jupyter-widgets/controls",
            "_model_module_version": "1.5.0",
            "_view_count": null,
            "_view_module_version": "1.5.0",
            "box_style": "",
            "layout": "IPY_MODEL_b5bcb792bfce40d098e1578dea6e63a4",
            "_model_module": "@jupyter-widgets/controls",
            "children": [
              "IPY_MODEL_7c1dbcd58ad641e8b71beb8ec4a25f43",
              "IPY_MODEL_8d6b88c489a44a86a8e72b31d446a824"
            ]
          }
        },
        "b5bcb792bfce40d098e1578dea6e63a4": {
          "model_module": "@jupyter-widgets/base",
          "model_name": "LayoutModel",
          "state": {
            "_view_name": "LayoutView",
            "grid_template_rows": null,
            "right": null,
            "justify_content": null,
            "_view_module": "@jupyter-widgets/base",
            "overflow": null,
            "_model_module_version": "1.2.0",
            "_view_count": null,
            "flex_flow": null,
            "width": null,
            "min_width": null,
            "border": null,
            "align_items": null,
            "bottom": null,
            "_model_module": "@jupyter-widgets/base",
            "top": null,
            "grid_column": null,
            "overflow_y": null,
            "overflow_x": null,
            "grid_auto_flow": null,
            "grid_area": null,
            "grid_template_columns": null,
            "flex": null,
            "_model_name": "LayoutModel",
            "justify_items": null,
            "grid_row": null,
            "max_height": null,
            "align_content": null,
            "visibility": null,
            "align_self": null,
            "height": null,
            "min_height": null,
            "padding": null,
            "grid_auto_rows": null,
            "grid_gap": null,
            "max_width": null,
            "order": null,
            "_view_module_version": "1.2.0",
            "grid_template_areas": null,
            "object_position": null,
            "object_fit": null,
            "grid_auto_columns": null,
            "margin": null,
            "display": null,
            "left": null
          }
        },
        "7c1dbcd58ad641e8b71beb8ec4a25f43": {
          "model_module": "@jupyter-widgets/controls",
          "model_name": "IntProgressModel",
          "state": {
            "_view_name": "ProgressView",
            "style": "IPY_MODEL_757852fe945f451fa2881b1bb5ab2a7c",
            "_dom_classes": [],
            "description": "",
            "_model_name": "IntProgressModel",
            "bar_style": "success",
            "max": 1,
            "_view_module": "@jupyter-widgets/controls",
            "_model_module_version": "1.5.0",
            "value": 1,
            "_view_count": null,
            "_view_module_version": "1.5.0",
            "orientation": "horizontal",
            "min": 0,
            "description_tooltip": null,
            "_model_module": "@jupyter-widgets/controls",
            "layout": "IPY_MODEL_b86686f8842943dca9e2f40fb29ad50d"
          }
        },
        "8d6b88c489a44a86a8e72b31d446a824": {
          "model_module": "@jupyter-widgets/controls",
          "model_name": "HTMLModel",
          "state": {
            "_view_name": "HTMLView",
            "style": "IPY_MODEL_44b355fe2f84477196935086d7ca70d2",
            "_dom_classes": [],
            "description": "",
            "_model_name": "HTMLModel",
            "placeholder": "​",
            "_view_module": "@jupyter-widgets/controls",
            "_model_module_version": "1.5.0",
            "value": " 1835008/? [00:00&lt;00:00, 3954244.68it/s]",
            "_view_count": null,
            "_view_module_version": "1.5.0",
            "description_tooltip": null,
            "_model_module": "@jupyter-widgets/controls",
            "layout": "IPY_MODEL_6a847ff832684a7a82a49da5579d8b13"
          }
        },
        "757852fe945f451fa2881b1bb5ab2a7c": {
          "model_module": "@jupyter-widgets/controls",
          "model_name": "ProgressStyleModel",
          "state": {
            "_view_name": "StyleView",
            "_model_name": "ProgressStyleModel",
            "description_width": "initial",
            "_view_module": "@jupyter-widgets/base",
            "_model_module_version": "1.5.0",
            "_view_count": null,
            "_view_module_version": "1.2.0",
            "bar_color": null,
            "_model_module": "@jupyter-widgets/controls"
          }
        },
        "b86686f8842943dca9e2f40fb29ad50d": {
          "model_module": "@jupyter-widgets/base",
          "model_name": "LayoutModel",
          "state": {
            "_view_name": "LayoutView",
            "grid_template_rows": null,
            "right": null,
            "justify_content": null,
            "_view_module": "@jupyter-widgets/base",
            "overflow": null,
            "_model_module_version": "1.2.0",
            "_view_count": null,
            "flex_flow": null,
            "width": null,
            "min_width": null,
            "border": null,
            "align_items": null,
            "bottom": null,
            "_model_module": "@jupyter-widgets/base",
            "top": null,
            "grid_column": null,
            "overflow_y": null,
            "overflow_x": null,
            "grid_auto_flow": null,
            "grid_area": null,
            "grid_template_columns": null,
            "flex": null,
            "_model_name": "LayoutModel",
            "justify_items": null,
            "grid_row": null,
            "max_height": null,
            "align_content": null,
            "visibility": null,
            "align_self": null,
            "height": null,
            "min_height": null,
            "padding": null,
            "grid_auto_rows": null,
            "grid_gap": null,
            "max_width": null,
            "order": null,
            "_view_module_version": "1.2.0",
            "grid_template_areas": null,
            "object_position": null,
            "object_fit": null,
            "grid_auto_columns": null,
            "margin": null,
            "display": null,
            "left": null
          }
        },
        "44b355fe2f84477196935086d7ca70d2": {
          "model_module": "@jupyter-widgets/controls",
          "model_name": "DescriptionStyleModel",
          "state": {
            "_view_name": "StyleView",
            "_model_name": "DescriptionStyleModel",
            "description_width": "",
            "_view_module": "@jupyter-widgets/base",
            "_model_module_version": "1.5.0",
            "_view_count": null,
            "_view_module_version": "1.2.0",
            "_model_module": "@jupyter-widgets/controls"
          }
        },
        "6a847ff832684a7a82a49da5579d8b13": {
          "model_module": "@jupyter-widgets/base",
          "model_name": "LayoutModel",
          "state": {
            "_view_name": "LayoutView",
            "grid_template_rows": null,
            "right": null,
            "justify_content": null,
            "_view_module": "@jupyter-widgets/base",
            "overflow": null,
            "_model_module_version": "1.2.0",
            "_view_count": null,
            "flex_flow": null,
            "width": null,
            "min_width": null,
            "border": null,
            "align_items": null,
            "bottom": null,
            "_model_module": "@jupyter-widgets/base",
            "top": null,
            "grid_column": null,
            "overflow_y": null,
            "overflow_x": null,
            "grid_auto_flow": null,
            "grid_area": null,
            "grid_template_columns": null,
            "flex": null,
            "_model_name": "LayoutModel",
            "justify_items": null,
            "grid_row": null,
            "max_height": null,
            "align_content": null,
            "visibility": null,
            "align_self": null,
            "height": null,
            "min_height": null,
            "padding": null,
            "grid_auto_rows": null,
            "grid_gap": null,
            "max_width": null,
            "order": null,
            "_view_module_version": "1.2.0",
            "grid_template_areas": null,
            "object_position": null,
            "object_fit": null,
            "grid_auto_columns": null,
            "margin": null,
            "display": null,
            "left": null
          }
        }
      }
    }
  },
  "cells": [
    {
      "cell_type": "markdown",
      "metadata": {
        "id": "view-in-github",
        "colab_type": "text"
      },
      "source": [
        "<a href=\"https://colab.research.google.com/github/pihk94/DeepLearning/blob/master/Cycle_GAN_Implementation.ipynb\" target=\"_parent\"><img src=\"https://colab.research.google.com/assets/colab-badge.svg\" alt=\"Open In Colab\"/></a>"
      ]
    },
    {
      "cell_type": "markdown",
      "metadata": {
        "id": "qeOpAJ53RD1K",
        "colab_type": "text"
      },
      "source": [
        "# Deep Learning : Generative Adversarial Networksand Cycle-GAN\n",
        "### May 2020 / ENSAE \n",
        "###### Melchior Prugniaud\n",
        "\n",
        "The purpose of this notebook is to reproduce the Cycle Gan presented [here](https://junyanz.github.io/CycleGAN/) which is an Image to Image translation and transform the MNIST dataset to the USPS. \n",
        "\n",
        "Following the [proposed assignment](http://www.cs.toronto.edu/~rgrosse/courses/csc421_2019/assignments/assignment4.pdf), we will :\n",
        "\n",
        "* Implement Deep Convolutionnal GAN\n",
        "\n",
        "* Implement Cycle GAN\n",
        "\n",
        "But first of all we need to import some packages and both dataset. I will use tensorflow and keras to do it."
      ]
    },
    {
      "cell_type": "code",
      "metadata": {
        "id": "V5QqE3vnEVGW",
        "colab_type": "code",
        "outputId": "fb82fbef-472c-473c-da02-60eaf097c367",
        "colab": {
          "base_uri": "https://localhost:8080/",
          "height": 306
        }
      },
      "source": [
        "!pip install git+https://www.github.com/keras-team/keras-contrib.git"
      ],
      "execution_count": 1,
      "outputs": [
        {
          "output_type": "stream",
          "text": [
            "Collecting git+https://www.github.com/keras-team/keras-contrib.git\n",
            "  Cloning https://www.github.com/keras-team/keras-contrib.git to /tmp/pip-req-build-dor7pmlm\n",
            "  Running command git clone -q https://www.github.com/keras-team/keras-contrib.git /tmp/pip-req-build-dor7pmlm\n",
            "Requirement already satisfied (use --upgrade to upgrade): keras-contrib==2.0.8 from git+https://www.github.com/keras-team/keras-contrib.git in /usr/local/lib/python3.6/dist-packages\n",
            "Requirement already satisfied: keras in /usr/local/lib/python3.6/dist-packages (from keras-contrib==2.0.8) (2.3.1)\n",
            "Requirement already satisfied: keras-preprocessing>=1.0.5 in /usr/local/lib/python3.6/dist-packages (from keras->keras-contrib==2.0.8) (1.1.0)\n",
            "Requirement already satisfied: numpy>=1.9.1 in /usr/local/lib/python3.6/dist-packages (from keras->keras-contrib==2.0.8) (1.18.3)\n",
            "Requirement already satisfied: keras-applications>=1.0.6 in /usr/local/lib/python3.6/dist-packages (from keras->keras-contrib==2.0.8) (1.0.8)\n",
            "Requirement already satisfied: six>=1.9.0 in /usr/local/lib/python3.6/dist-packages (from keras->keras-contrib==2.0.8) (1.12.0)\n",
            "Requirement already satisfied: h5py in /usr/local/lib/python3.6/dist-packages (from keras->keras-contrib==2.0.8) (2.10.0)\n",
            "Requirement already satisfied: pyyaml in /usr/local/lib/python3.6/dist-packages (from keras->keras-contrib==2.0.8) (3.13)\n",
            "Requirement already satisfied: scipy>=0.14 in /usr/local/lib/python3.6/dist-packages (from keras->keras-contrib==2.0.8) (1.4.1)\n",
            "Building wheels for collected packages: keras-contrib\n",
            "  Building wheel for keras-contrib (setup.py) ... \u001b[?25l\u001b[?25hdone\n",
            "  Created wheel for keras-contrib: filename=keras_contrib-2.0.8-cp36-none-any.whl size=101064 sha256=0a5caca9df76a5aea9766539d1daf6778c1f82bbd4997797d2f704ca22cd3ace\n",
            "  Stored in directory: /tmp/pip-ephem-wheel-cache-m6f_73j_/wheels/11/27/c8/4ed56de7b55f4f61244e2dc6ef3cdbaff2692527a2ce6502ba\n",
            "Successfully built keras-contrib\n"
          ],
          "name": "stdout"
        }
      ]
    },
    {
      "cell_type": "code",
      "metadata": {
        "id": "e2xT8n9yT8kD",
        "colab_type": "code",
        "colab": {}
      },
      "source": [
        "import tensorflow as tf\n",
        "from tensorflow.keras.backend import resize_images\n",
        "from tensorflow.keras.datasets import mnist\n",
        "import matplotlib.pyplot as plt\n",
        "import cv2\n",
        "from skimage.transform import resize\n",
        "import numpy as np\n",
        "from tensorflow.keras.losses import BinaryCrossentropy\n",
        "from tensorflow.keras.optimizers import Adam\n",
        "from keras.initializers import RandomNormal\n",
        "from keras.utils.vis_utils import plot_model\n",
        "from tensorflow.keras import layers\n",
        "import os"
      ],
      "execution_count": 0,
      "outputs": []
    },
    {
      "cell_type": "markdown",
      "metadata": {
        "id": "i0EfT--Qy3T8",
        "colab_type": "text"
      },
      "source": [
        "# Prerequisite Datasets preprocessing"
      ]
    },
    {
      "cell_type": "markdown",
      "metadata": {
        "id": "HdzX7AT9WNGJ",
        "colab_type": "text"
      },
      "source": [
        "### Load MNIST Dataset\n",
        "MNIST dataset consist of 70 000 digits of size 28x28."
      ]
    },
    {
      "cell_type": "code",
      "metadata": {
        "id": "yyx_hibpVapH",
        "colab_type": "code",
        "outputId": "ca9f40d0-45be-44b6-91ed-4b30ce927b70",
        "colab": {
          "base_uri": "https://localhost:8080/",
          "height": 68
        }
      },
      "source": [
        "train_mnist,test_mnist = mnist.load_data()\n",
        "train_mnist[0].shape,train_mnist[1].shape"
      ],
      "execution_count": 0,
      "outputs": [
        {
          "output_type": "stream",
          "text": [
            "Downloading data from https://storage.googleapis.com/tensorflow/tf-keras-datasets/mnist.npz\n",
            "11493376/11490434 [==============================] - 0s 0us/step\n"
          ],
          "name": "stdout"
        },
        {
          "output_type": "execute_result",
          "data": {
            "text/plain": [
              "((60000, 28, 28), (60000,))"
            ]
          },
          "metadata": {
            "tags": []
          },
          "execution_count": 2
        }
      ]
    },
    {
      "cell_type": "code",
      "metadata": {
        "id": "oJgoVAXmgdNL",
        "colab_type": "code",
        "colab": {}
      },
      "source": [
        "img_mnist,label_mnist = train_mnist[0],train_mnist[1]\n",
        "imgs,labels = [],[]\n",
        "j=0\n",
        "while len(imgs)<=9:\n",
        "  for i in range(len(img_mnist)):\n",
        "    if not label_mnist[i] in labels and label_mnist[i] ==j:\n",
        "      labels.append(label_mnist[i])\n",
        "      imgs.append(img_mnist[i])\n",
        "      j+=1"
      ],
      "execution_count": 0,
      "outputs": []
    },
    {
      "cell_type": "code",
      "metadata": {
        "id": "tqaWEOObdoao",
        "colab_type": "code",
        "outputId": "d855ee70-4a42-48ee-a16e-b143df9eee9b",
        "colab": {
          "base_uri": "https://localhost:8080/",
          "height": 121
        }
      },
      "source": [
        "plt.figure(figsize =(12,12))\n",
        "for i in range(1,11):\n",
        "  plt.subplot(1,10,i)\n",
        "  plt.imshow(imgs[i-1],cmap='gray',interpolation='none')\n",
        "  plt.title(\"Label: {}\".format(labels[i-1]))\n",
        "  plt.xticks([])\n",
        "  plt.yticks([])\n",
        "plt.tight_layout()"
      ],
      "execution_count": 0,
      "outputs": [
        {
          "output_type": "display_data",
          "data": {
            "image/png": "[encoded data removed]",
            "text/plain": [
              "<Figure size 864x864 with 10 Axes>"
            ]
          },
          "metadata": {
            "tags": []
          }
        }
      ]
    },
    {
      "cell_type": "markdown",
      "metadata": {
        "id": "6CtQ9uZvyF6J",
        "colab_type": "text"
      },
      "source": [
        "Let's try to resize our image to 32 x 32 as asked in the input from the assignment.\n"
      ]
    },
    {
      "cell_type": "code",
      "metadata": {
        "id": "UqTexTJ1yFRg",
        "colab_type": "code",
        "outputId": "0d0a51f4-afd8-4c06-888a-9e59811df94e",
        "colab": {
          "base_uri": "https://localhost:8080/",
          "height": 121
        }
      },
      "source": [
        "plt.figure(figsize =(12,12))\n",
        "for i in range(1,11):\n",
        "  plt.subplot(1,10,i)\n",
        "  plt.imshow(cv2.resize(imgs[i-1], dsize=(32,32), interpolation=cv2.INTER_CUBIC),cmap='gray',interpolation='none')\n",
        "  plt.title(\"Label: {}\".format(labels[i-1]))\n",
        "  plt.xticks([])\n",
        "  plt.yticks([])\n",
        "plt.tight_layout()"
      ],
      "execution_count": 0,
      "outputs": [
        {
          "output_type": "display_data",
          "data": {
            "image/png": "[encoded data removed]",
            "text/plain": [
              "<Figure size 864x864 with 10 Axes>"
            ]
          },
          "metadata": {
            "tags": []
          }
        }
      ]
    },
    {
      "cell_type": "markdown",
      "metadata": {
        "id": "8w6JoStVyiQr",
        "colab_type": "text"
      },
      "source": [
        "Looks like it's working good, we will apply it on a function to prepare datasets.\n",
        "### Load USPS dataset\n",
        "\n",
        "Let's now load the USPS dataset, unfortunately keras does not have the dataset, so we load it with torchvision.\n"
      ]
    },
    {
      "cell_type": "code",
      "metadata": {
        "id": "GmYrKXLwufNF",
        "colab_type": "code",
        "outputId": "9b65e9e5-3ca7-44c4-aacd-0bbba473e269",
        "colab": {
          "base_uri": "https://localhost:8080/",
          "height": 149,
          "referenced_widgets": [
            "548935875cc94523a906e2daa9524993",
            "b3efc17e807e4361a2971daaeb73916d",
            "dee11bf189ff4c5faa6df8a354ae9053",
            "6440be935c4c4158a17f511cdbc34674",
            "649099c40c6e44489b5e086b6e590665",
            "8cf67b73776a4f6ab7d874030ffcf0c6",
            "3542a7cbf3544377a225301aeb3306a1",
            "0a92ea859e1644ff9bc0b71bb7969680",
            "d03e5a5f4b6b464db468dc64182724d6",
            "b5bcb792bfce40d098e1578dea6e63a4",
            "7c1dbcd58ad641e8b71beb8ec4a25f43",
            "8d6b88c489a44a86a8e72b31d446a824",
            "757852fe945f451fa2881b1bb5ab2a7c",
            "b86686f8842943dca9e2f40fb29ad50d",
            "44b355fe2f84477196935086d7ca70d2",
            "6a847ff832684a7a82a49da5579d8b13"
          ]
        }
      },
      "source": [
        "from torchvision import datasets\n",
        "train_usps = datasets.USPS(root='content/',download=True,train=True)\n",
        "test_usps = datasets.USPS(root='content/',download=True,train=False)"
      ],
      "execution_count": 0,
      "outputs": [
        {
          "output_type": "stream",
          "text": [
            "Downloading https://www.csie.ntu.edu.tw/~cjlin/libsvmtools/datasets/multiclass/usps.bz2 to content/usps.bz2\n"
          ],
          "name": "stdout"
        },
        {
          "output_type": "display_data",
          "data": {
            "application/vnd.jupyter.widget-view+json": {
              "model_id": "548935875cc94523a906e2daa9524993",
              "version_minor": 0,
              "version_major": 2
            },
            "text/plain": [
              "HBox(children=(IntProgress(value=1, bar_style='info', max=1), HTML(value='')))"
            ]
          },
          "metadata": {
            "tags": []
          }
        },
        {
          "output_type": "stream",
          "text": [
            "\n",
            "Downloading https://www.csie.ntu.edu.tw/~cjlin/libsvmtools/datasets/multiclass/usps.t.bz2 to content/usps.t.bz2\n"
          ],
          "name": "stdout"
        },
        {
          "output_type": "display_data",
          "data": {
            "application/vnd.jupyter.widget-view+json": {
              "model_id": "d03e5a5f4b6b464db468dc64182724d6",
              "version_minor": 0,
              "version_major": 2
            },
            "text/plain": [
              "HBox(children=(IntProgress(value=1, bar_style='info', max=1), HTML(value='')))"
            ]
          },
          "metadata": {
            "tags": []
          }
        },
        {
          "output_type": "stream",
          "text": [
            "\n"
          ],
          "name": "stdout"
        }
      ]
    },
    {
      "cell_type": "code",
      "metadata": {
        "id": "QgV-hwxJxJec",
        "colab_type": "code",
        "outputId": "35314362-fa36-41a5-df81-8130239ad15b",
        "colab": {
          "base_uri": "https://localhost:8080/",
          "height": 34
        }
      },
      "source": [
        "train_usps[0]"
      ],
      "execution_count": 0,
      "outputs": [
        {
          "output_type": "execute_result",
          "data": {
            "text/plain": [
              "(<PIL.Image.Image image mode=L size=16x16 at 0x7F025A020278>, 6)"
            ]
          },
          "metadata": {
            "tags": []
          },
          "execution_count": 26
        }
      ]
    },
    {
      "cell_type": "code",
      "metadata": {
        "id": "9HVIKuwMvEIn",
        "colab_type": "code",
        "colab": {}
      },
      "source": [
        "data = train_usps\n",
        "imgs,labels = [],[]\n",
        "j=0\n",
        "while len(imgs)<=9:\n",
        "  for i in range(len(data)):\n",
        "    if not data[i][1] in labels and data[i][1] ==j:\n",
        "      labels.append(data[i][1])\n",
        "      imgs.append(data[i][0])\n",
        "      j+=1"
      ],
      "execution_count": 0,
      "outputs": []
    },
    {
      "cell_type": "code",
      "metadata": {
        "id": "fKTe4faVv7aC",
        "colab_type": "code",
        "outputId": "7a6c4147-eadd-415f-8700-a9f1ac4f02bb",
        "colab": {
          "base_uri": "https://localhost:8080/",
          "height": 121
        }
      },
      "source": [
        "plt.figure(figsize =(12,12))\n",
        "for i in range(1,11):\n",
        "  plt.subplot(1,10,i)\n",
        "  plt.imshow(imgs[i-1],cmap='gray',interpolation='none')\n",
        "  plt.title(\"Label: {}\".format(labels[i-1]))\n",
        "  plt.xticks([])\n",
        "  plt.yticks([])\n",
        "plt.tight_layout()"
      ],
      "execution_count": 0,
      "outputs": [
        {
          "output_type": "display_data",
          "data": {
            "image/png": "[encoded data removed]",
            "text/plain": [
              "<Figure size 864x864 with 10 Axes>"
            ]
          },
          "metadata": {
            "tags": []
          }
        }
      ]
    },
    {
      "cell_type": "markdown",
      "metadata": {
        "id": "3BtTE8i9xHDj",
        "colab_type": "text"
      },
      "source": [
        "Let's reshape again this 16x16 imgs to 32x32"
      ]
    },
    {
      "cell_type": "code",
      "metadata": {
        "id": "xUkRjd_LxVS4",
        "colab_type": "code",
        "outputId": "0150a8bc-b060-44b9-8dbe-d039e037161d",
        "colab": {
          "base_uri": "https://localhost:8080/",
          "height": 121
        }
      },
      "source": [
        "plt.figure(figsize =(12,12))\n",
        "for i in range(1,11):\n",
        "  plt.subplot(1,10,i)\n",
        "  plt.imshow(imgs[i-1].resize((32,32)),cmap='gray',interpolation='none')\n",
        "  plt.title(\"Label: {}\".format(labels[i-1]))\n",
        "  plt.xticks([])\n",
        "  plt.yticks([])\n",
        "plt.tight_layout()"
      ],
      "execution_count": 0,
      "outputs": [
        {
          "output_type": "display_data",
          "data": {
            "image/png": "[encoded data removed]",
            "text/plain": [
              "<Figure size 864x864 with 10 Axes>"
            ]
          },
          "metadata": {
            "tags": []
          }
        }
      ]
    },
    {
      "cell_type": "markdown",
      "metadata": {
        "id": "rOKBQ6T_yGFq",
        "colab_type": "text"
      },
      "source": [
        "## Prepare datasets loader\n",
        "\n",
        "Here is two function , one for each dataset to load data in the good format for our networks."
      ]
    },
    {
      "cell_type": "code",
      "metadata": {
        "id": "xfXOLij6zKJx",
        "colab_type": "code",
        "colab": {}
      },
      "source": [
        ""
      ],
      "execution_count": 0,
      "outputs": []
    },
    {
      "cell_type": "markdown",
      "metadata": {
        "id": "CmqLGeQq5sEY",
        "colab_type": "text"
      },
      "source": [
        "# Part 1: Deep Convolutional GAN (DCGAN)\n",
        "\n",
        "In the first part, the assignment ask to implement the DCGAN.\n",
        "We will follow this blueprint : \n",
        "\n",
        "* Create discriminator\n",
        "\n",
        "* Create generator\n",
        "\n",
        "* Create the training procedure\n"
      ]
    },
    {
      "cell_type": "markdown",
      "metadata": {
        "id": "Z4dvAJLYS9_r",
        "colab_type": "text"
      },
      "source": [
        "## Discriminator\n",
        "\n",
        "We have to reproduce this architecture : \n",
        "\n",
        "\n",
        "![image.png](data:image/png;base64,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)"
      ]
    },
    {
      "cell_type": "code",
      "metadata": {
        "id": "iDHX_vf34lJz",
        "colab_type": "code",
        "colab": {
          "base_uri": "https://localhost:8080/",
          "height": 425
        },
        "outputId": "7f2164c3-5a82-4fb3-e259-8451f67e9891"
      },
      "source": [
        "def dis_model(input_shape=(28,28,1)):\n",
        "  init = RandomNormal(stddev=0.02) #as used in the article of CycleGan\n",
        "  padding = 'same'\n",
        "  kernels = (4,4)\n",
        "  strides = (2,2)\n",
        "  size = 64\n",
        "  model = tf.keras.Sequential()\n",
        "  model.add(layers.Conv2D(32,(5,5),strides =strides,padding = padding,kernel_initializer=init,input_shape=input_shape))\n",
        "  model.add(layers.BatchNormalization())\n",
        "  model.add(layers.LeakyReLU(alpha=0.05))\n",
        "  model.add(layers.Conv2D(64,(5,5),strides =strides,padding = padding,kernel_initializer=init,input_shape=input_shape))\n",
        "  model.add(layers.BatchNormalization())\n",
        "  model.add(layers.LeakyReLU(alpha=0.05))\n",
        "  model.add(layers.Flatten())\n",
        "  model.add(layers.Dense(1))\n",
        "  return model\n",
        "dis_model((28,28,1)).summary()"
      ],
      "execution_count": 6,
      "outputs": [
        {
          "output_type": "stream",
          "text": [
            "Model: \"sequential_3\"\n",
            "_________________________________________________________________\n",
            "Layer (type)                 Output Shape              Param #   \n",
            "=================================================================\n",
            "conv2d_4 (Conv2D)            (None, 14, 14, 32)        832       \n",
            "_________________________________________________________________\n",
            "batch_normalization_7 (Batch (None, 14, 14, 32)        128       \n",
            "_________________________________________________________________\n",
            "leaky_re_lu_7 (LeakyReLU)    (None, 14, 14, 32)        0         \n",
            "_________________________________________________________________\n",
            "conv2d_5 (Conv2D)            (None, 7, 7, 64)          51264     \n",
            "_________________________________________________________________\n",
            "batch_normalization_8 (Batch (None, 7, 7, 64)          256       \n",
            "_________________________________________________________________\n",
            "leaky_re_lu_8 (LeakyReLU)    (None, 7, 7, 64)          0         \n",
            "_________________________________________________________________\n",
            "flatten_2 (Flatten)          (None, 3136)              0         \n",
            "_________________________________________________________________\n",
            "dense_3 (Dense)              (None, 1)                 3137      \n",
            "=================================================================\n",
            "Total params: 55,617\n",
            "Trainable params: 55,425\n",
            "Non-trainable params: 192\n",
            "_________________________________________________________________\n"
          ],
          "name": "stdout"
        }
      ]
    },
    {
      "cell_type": "markdown",
      "metadata": {
        "id": "CooArgbSuBEL",
        "colab_type": "text"
      },
      "source": [
        "Taking our initial shape, we got the following model for our discriminator."
      ]
    },
    {
      "cell_type": "markdown",
      "metadata": {
        "id": "G0ZLS4K7wcU5",
        "colab_type": "text"
      },
      "source": [
        "## Generator\n",
        "\n",
        "Let's now try to make the generator model. The representation is : \n",
        "\n",
        "![image.png](data:image/png;base64,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)"
      ]
    },
    {
      "cell_type": "markdown",
      "metadata": {
        "id": "1At7m67LR86W",
        "colab_type": "text"
      },
      "source": [
        "Since we have only 28x28 images, we delete one layer"
      ]
    },
    {
      "cell_type": "code",
      "metadata": {
        "id": "EgtcKY7XCiRH",
        "colab_type": "code",
        "colab": {
          "base_uri": "https://localhost:8080/",
          "height": 544
        },
        "outputId": "3e8bb9d0-a38d-43c2-c6bd-d8946bfa8fd8"
      },
      "source": [
        "def gen_model():\n",
        "    init = RandomNormal(stddev=0.02) #as used in the article of CycleGan\n",
        "    model = tf.keras.Sequential()\n",
        "    model.add(layers.Dense(7*7*256, use_bias=False, input_shape=(100,),kernel_initializer=init))\n",
        "    model.add(layers.BatchNormalization())\n",
        "    model.add(layers.LeakyReLU())\n",
        "    model.add(layers.Reshape((7, 7, 256)))\n",
        "    model.add(layers.Conv2DTranspose(128, (5, 5), strides=(1, 1), padding='same', use_bias=False,kernel_initializer=init))\n",
        "    model.add(layers.BatchNormalization())\n",
        "    model.add(layers.LeakyReLU())\n",
        "    model.add(layers.Conv2DTranspose(64, (5, 5), strides=(2, 2), padding='same', use_bias=False,kernel_initializer=init))\n",
        "    model.add(layers.BatchNormalization())\n",
        "    model.add(layers.LeakyReLU())\n",
        "    model.add(layers.Conv2DTranspose(1, (5, 5), strides=(2, 2), padding='same', use_bias=False,kernel_initializer=init,activation='tanh'))\n",
        "    model.summary()\n",
        "    return model\n",
        "gen_model()"
      ],
      "execution_count": 7,
      "outputs": [
        {
          "output_type": "stream",
          "text": [
            "Model: \"sequential_4\"\n",
            "_________________________________________________________________\n",
            "Layer (type)                 Output Shape              Param #   \n",
            "=================================================================\n",
            "dense_4 (Dense)              (None, 12544)             1254400   \n",
            "_________________________________________________________________\n",
            "batch_normalization_9 (Batch (None, 12544)             50176     \n",
            "_________________________________________________________________\n",
            "leaky_re_lu_9 (LeakyReLU)    (None, 12544)             0         \n",
            "_________________________________________________________________\n",
            "reshape_1 (Reshape)          (None, 7, 7, 256)         0         \n",
            "_________________________________________________________________\n",
            "conv2d_transpose_3 (Conv2DTr (None, 7, 7, 128)         819200    \n",
            "_________________________________________________________________\n",
            "batch_normalization_10 (Batc (None, 7, 7, 128)         512       \n",
            "_________________________________________________________________\n",
            "leaky_re_lu_10 (LeakyReLU)   (None, 7, 7, 128)         0         \n",
            "_________________________________________________________________\n",
            "conv2d_transpose_4 (Conv2DTr (None, 14, 14, 64)        204800    \n",
            "_________________________________________________________________\n",
            "batch_normalization_11 (Batc (None, 14, 14, 64)        256       \n",
            "_________________________________________________________________\n",
            "leaky_re_lu_11 (LeakyReLU)   (None, 14, 14, 64)        0         \n",
            "_________________________________________________________________\n",
            "conv2d_transpose_5 (Conv2DTr (None, 28, 28, 1)         1600      \n",
            "=================================================================\n",
            "Total params: 2,330,944\n",
            "Trainable params: 2,305,472\n",
            "Non-trainable params: 25,472\n",
            "_________________________________________________________________\n"
          ],
          "name": "stdout"
        },
        {
          "output_type": "execute_result",
          "data": {
            "text/plain": [
              "<tensorflow.python.keras.engine.sequential.Sequential at 0x7fa0c016f6d8>"
            ]
          },
          "metadata": {
            "tags": []
          },
          "execution_count": 7
        }
      ]
    },
    {
      "cell_type": "code",
      "metadata": {
        "id": "ViRVKoQkUvSf",
        "colab_type": "code",
        "outputId": "7d32b0ce-2891-46b9-9999-ce7f8b0924f8",
        "colab": {
          "base_uri": "https://localhost:8080/",
          "height": 792
        }
      },
      "source": [
        "gen = gen_model()\n",
        "noise = tf.random.normal([1, 100])\n",
        "gen.training=False\n",
        "generated_image = gen(noise)\n",
        "plt.imshow(generated_image[0, :, :, 0], cmap='gray')"
      ],
      "execution_count": 8,
      "outputs": [
        {
          "output_type": "stream",
          "text": [
            "Model: \"sequential_5\"\n",
            "_________________________________________________________________\n",
            "Layer (type)                 Output Shape              Param #   \n",
            "=================================================================\n",
            "dense_5 (Dense)              (None, 12544)             1254400   \n",
            "_________________________________________________________________\n",
            "batch_normalization_12 (Batc (None, 12544)             50176     \n",
            "_________________________________________________________________\n",
            "leaky_re_lu_12 (LeakyReLU)   (None, 12544)             0         \n",
            "_________________________________________________________________\n",
            "reshape_2 (Reshape)          (None, 7, 7, 256)         0         \n",
            "_________________________________________________________________\n",
            "conv2d_transpose_6 (Conv2DTr (None, 7, 7, 128)         819200    \n",
            "_________________________________________________________________\n",
            "batch_normalization_13 (Batc (None, 7, 7, 128)         512       \n",
            "_________________________________________________________________\n",
            "leaky_re_lu_13 (LeakyReLU)   (None, 7, 7, 128)         0         \n",
            "_________________________________________________________________\n",
            "conv2d_transpose_7 (Conv2DTr (None, 14, 14, 64)        204800    \n",
            "_________________________________________________________________\n",
            "batch_normalization_14 (Batc (None, 14, 14, 64)        256       \n",
            "_________________________________________________________________\n",
            "leaky_re_lu_14 (LeakyReLU)   (None, 14, 14, 64)        0         \n",
            "_________________________________________________________________\n",
            "conv2d_transpose_8 (Conv2DTr (None, 28, 28, 1)         1600      \n",
            "=================================================================\n",
            "Total params: 2,330,944\n",
            "Trainable params: 2,305,472\n",
            "Non-trainable params: 25,472\n",
            "_________________________________________________________________\n"
          ],
          "name": "stdout"
        },
        {
          "output_type": "execute_result",
          "data": {
            "text/plain": [
              "<matplotlib.image.AxesImage at 0x7fa078074668>"
            ]
          },
          "metadata": {
            "tags": []
          },
          "execution_count": 8
        },
        {
          "output_type": "display_data",
          "data": {
            "image/png": "[encoded data removed]",
            "text/plain": [
              "<Figure size 432x288 with 1 Axes>"
            ]
          },
          "metadata": {
            "tags": [],
            "needs_background": "light"
          }
        }
      ]
    },
    {
      "cell_type": "markdown",
      "metadata": {
        "id": "RUkXvqy8IrO7",
        "colab_type": "text"
      },
      "source": [
        "We then use the loss of our model"
      ]
    },
    {
      "cell_type": "code",
      "metadata": {
        "id": "RSDV1Fy7I02b",
        "colab_type": "code",
        "colab": {}
      },
      "source": [
        "crossEntropy = BinaryCrossentropy(from_logits=True)\n",
        "g_opti = Adam(lr=0.0002, beta_1=0.5)\n",
        "d_opti = Adam(lr=0.0002, beta_1=0.5)"
      ],
      "execution_count": 0,
      "outputs": []
    },
    {
      "cell_type": "code",
      "metadata": {
        "id": "MVO_pcCcI_Et",
        "colab_type": "code",
        "colab": {}
      },
      "source": [
        "def d_loss(real,fake):\n",
        "  true_loss = crossEntropy(tf.ones_like(real) , real)\n",
        "  false_loss=  crossEntropy(tf.zeros_like(fake), fake)\n",
        "  total = true_loss + false_loss\n",
        "  return total\n",
        "def g_loss(fake):\n",
        "  return crossEntropy(tf.ones_like(fake), fake)"
      ],
      "execution_count": 0,
      "outputs": []
    },
    {
      "cell_type": "markdown",
      "metadata": {
        "id": "Mw-1NEgwJ6V8",
        "colab_type": "text"
      },
      "source": [
        "Set the seed"
      ]
    },
    {
      "cell_type": "code",
      "metadata": {
        "id": "ZgGk63SOJ9NZ",
        "colab_type": "code",
        "colab": {
          "base_uri": "https://localhost:8080/",
          "height": 527
        },
        "outputId": "5b1218c0-8910-4249-c9fc-9757337f677e"
      },
      "source": [
        "example = 25\n",
        "seed = tf.random.normal([example,100])\n",
        "gen =gen_model()\n",
        "dis = dis_model()"
      ],
      "execution_count": 19,
      "outputs": [
        {
          "output_type": "stream",
          "text": [
            "Model: \"sequential_8\"\n",
            "_________________________________________________________________\n",
            "Layer (type)                 Output Shape              Param #   \n",
            "=================================================================\n",
            "dense_8 (Dense)              (None, 12544)             1254400   \n",
            "_________________________________________________________________\n",
            "batch_normalization_20 (Batc (None, 12544)             50176     \n",
            "_________________________________________________________________\n",
            "leaky_re_lu_20 (LeakyReLU)   (None, 12544)             0         \n",
            "_________________________________________________________________\n",
            "reshape_4 (Reshape)          (None, 7, 7, 256)         0         \n",
            "_________________________________________________________________\n",
            "conv2d_transpose_12 (Conv2DT (None, 7, 7, 128)         819200    \n",
            "_________________________________________________________________\n",
            "batch_normalization_21 (Batc (None, 7, 7, 128)         512       \n",
            "_________________________________________________________________\n",
            "leaky_re_lu_21 (LeakyReLU)   (None, 7, 7, 128)         0         \n",
            "_________________________________________________________________\n",
            "conv2d_transpose_13 (Conv2DT (None, 14, 14, 64)        204800    \n",
            "_________________________________________________________________\n",
            "batch_normalization_22 (Batc (None, 14, 14, 64)        256       \n",
            "_________________________________________________________________\n",
            "leaky_re_lu_22 (LeakyReLU)   (None, 14, 14, 64)        0         \n",
            "_________________________________________________________________\n",
            "conv2d_transpose_14 (Conv2DT (None, 28, 28, 1)         1600      \n",
            "=================================================================\n",
            "Total params: 2,330,944\n",
            "Trainable params: 2,305,472\n",
            "Non-trainable params: 25,472\n",
            "_________________________________________________________________\n"
          ],
          "name": "stdout"
        }
      ]
    },
    {
      "cell_type": "markdown",
      "metadata": {
        "id": "woov2HOzU474",
        "colab_type": "text"
      },
      "source": [
        "Save results "
      ]
    },
    {
      "cell_type": "code",
      "metadata": {
        "id": "dmYkTGayU9HH",
        "colab_type": "code",
        "colab": {}
      },
      "source": [
        "save_dir = \"./Saves\"\n",
        "prefix = os.path.join(save_dir,\"ckpt\")\n",
        "save = tf.train.Checkpoint(d_opti= d_opti,g_opti=g_opti,gen = gen,dis= dis)"
      ],
      "execution_count": 0,
      "outputs": []
    },
    {
      "cell_type": "code",
      "metadata": {
        "id": "lNE4-ksYU4Zo",
        "colab_type": "code",
        "colab": {}
      },
      "source": [
        "@tf.function\n",
        "def step(images,BATCH_SIZE=64,generator=gen,discriminator=dis):\n",
        "    noise = tf.random.normal([BATCH_SIZE, 100])\n",
        "    with tf.GradientTape() as gen_tape, tf.GradientTape() as disc_tape:\n",
        "      generator.training=True\n",
        "      generated_images = generator(noise)\n",
        "      discriminator.training = True\n",
        "      real_output = discriminator(images)\n",
        "      discriminator.training = True\n",
        "      fake_output = discriminator(generated_images)\n",
        "      gen_loss = generator_loss(fake_output)\n",
        "      disc_loss = discriminator_loss(real_output, fake_output)\n",
        "    gradients_of_generator = gen_tape.gradient(gen_loss, generator.trainable_variables)\n",
        "    gradients_of_discriminator = disc_tape.gradient(disc_loss, discriminator.trainable_variables)\n",
        "    generator_optimizer.apply_gradients(zip(gradients_of_generator, generator.trainable_variables))\n",
        "    discriminator_optimizer.apply_gradients(zip(gradients_of_discriminator, discriminator.trainable_variables))\n",
        "def generate_and_save_images(model, epoch, test_input):\n",
        "  model.training = False\n",
        "  predictions = model(test_input)\n",
        "  fig = plt.figure(figsize=(4,4))\n",
        "  for i in range(predictions.shape[0]):\n",
        "      plt.subplot(4, 4, i+1)\n",
        "      plt.imshow(predictions[i, :, :, 0] * 127.5 + 127.5, cmap='gray')\n",
        "      plt.axis('off')\n",
        "  plt.savefig(f'image_at_epoch_{epoch}.png')\n",
        "  plt.show()"
      ],
      "execution_count": 0,
      "outputs": []
    },
    {
      "cell_type": "code",
      "metadata": {
        "id": "DTRjd0m8X_t7",
        "colab_type": "code",
        "colab": {}
      },
      "source": [
        "def train(df, epochs = 50):\n",
        "  for epoch in range(epochs):\n",
        "    start = time.time()\n",
        "    for image_batch in dataset:\n",
        "      step(image_batch)\n",
        "    display.clear_output(wait=True)\n",
        "    generate_and_save_images(generator,\n",
        "                             epoch + 1,\n",
        "                             seed)\n",
        "    if (epoch + 1) % 15 == 0:\n",
        "      checkpoint.save(file_prefix = checkpoint_prefix)\n",
        "    print ('Time for epoch {} is {} sec'.format(epoch + 1, time.time()-start))\n",
        "  display.clear_output(wait=True)\n",
        "  generate_and_save_images(generator,\n",
        "                           epochs,\n",
        "                           seed)"
      ],
      "execution_count": 0,
      "outputs": []
    },
    {
      "cell_type": "markdown",
      "metadata": {
        "id": "k_aiDDqdKZuF",
        "colab_type": "text"
      },
      "source": [
        "Define the training step"
      ]
    },
    {
      "cell_type": "code",
      "metadata": {
        "id": "cYyiXUJQKelO",
        "colab_type": "code",
        "colab": {
          "base_uri": "https://localhost:8080/",
          "height": 129
        },
        "outputId": "f12b1a57-60c4-4856-dc33-ff9d60ce01e7"
      },
      "source": [
        "@tf.function\n",
        "def step(img,BATCH_SIZE=64):\n",
        "  noise = tf.random.normal([BATCH_SIZE,100])\n",
        "  with tf.GradientTape as gen_tape,tf.GradientTape() as disc_tape:\n",
        "    "
      ],
      "execution_count": 13,
      "outputs": [
        {
          "output_type": "error",
          "ename": "SyntaxError",
          "evalue": "ignored",
          "traceback": [
            "\u001b[0;36m  File \u001b[0;32m\"<ipython-input-13-c67e3056a3ab>\"\u001b[0;36m, line \u001b[0;32m5\u001b[0m\n\u001b[0;31m    \u001b[0m\n\u001b[0m    ^\u001b[0m\n\u001b[0;31mSyntaxError\u001b[0m\u001b[0;31m:\u001b[0m unexpected EOF while parsing\n"
          ]
        }
      ]
    },
    {
      "cell_type": "markdown",
      "metadata": {
        "id": "icLR8BbD_aoh",
        "colab_type": "text"
      },
      "source": [
        "## Training Loop\n"
      ]
    },
    {
      "cell_type": "code",
      "metadata": {
        "id": "gL62X1d9PCQN",
        "colab_type": "code",
        "colab": {}
      },
      "source": [
        "def load_mnist():\n",
        "  (trainX,_),(_,_) = mnist.load_data()\n",
        "  trainX = np.expand_dims(trainX, axis=-1)\n",
        "  X = resize(trainX, (60000,32,32))\n",
        "  return X\n",
        "def real_samples(df,n_samples):\n",
        "  ix = np.random.randint(0, df.shape[0], n_samples)\n",
        "  X = df[ix]\n",
        "  y = np.ones((n_samples,4,4,1))\n",
        "  return X,y\n",
        "def fake_samples(n_samples):\n",
        "  X = np.random.rand(32*32*n_samples)\n",
        "  X = X.reshape((n_samples,32,32,1))\n",
        "  y = np.zeros((n_samples,4,4,1))\n",
        "  return X,y\n",
        "def train_discriminator(model, df, n_iter = 100,batch_size = 64,show_every=10):\n",
        "  semi_batch = int(batch_size/2)\n",
        "  for i in range(n_iter):\n",
        "    X_real,y_real = real_samples(df,semi_batch)\n",
        "    _, trueAcc = model.train_on_batch(X_real,y_real)\n",
        "    X_fake,y_fake = fake_samples(semi_batch)\n",
        "    _, fakeAcc = model.train_on_batch(X_fake,y_fake)\n",
        "    if not i % show_every:\n",
        "      print(f'Accuracy show for iter {i} :\\nReal : {round(trueAcc*100,2)} Fake : {round(fakeAcc*100,2)}')"
      ],
      "execution_count": 0,
      "outputs": []
    },
    {
      "cell_type": "code",
      "metadata": {
        "id": "u1VdQs7-QXj_",
        "colab_type": "code",
        "outputId": "63c832fe-ebc6-4273-9841-afb93d17390e",
        "colab": {
          "base_uri": "https://localhost:8080/",
          "height": 697
        }
      },
      "source": [
        "df = load_mnist()\n",
        "model = discriminator((32,32,1))\n",
        "train_discriminator(model,df,n_iter=200)"
      ],
      "execution_count": 0,
      "outputs": [
        {
          "output_type": "stream",
          "text": [
            "Accuracy show for iter 0 :\n",
            "Real : 40.62 Fake : 32.03\n",
            "Accuracy show for iter 10 :\n",
            "Real : 75.39 Fake : 81.45\n",
            "Accuracy show for iter 20 :\n",
            "Real : 81.64 Fake : 79.49\n",
            "Accuracy show for iter 30 :\n",
            "Real : 98.05 Fake : 89.65\n",
            "Accuracy show for iter 40 :\n",
            "Real : 97.46 Fake : 92.19\n",
            "Accuracy show for iter 50 :\n",
            "Real : 99.8 Fake : 96.48\n",
            "Accuracy show for iter 60 :\n",
            "Real : 100.0 Fake : 97.27\n",
            "Accuracy show for iter 70 :\n",
            "Real : 99.8 Fake : 91.21\n",
            "Accuracy show for iter 80 :\n",
            "Real : 98.63 Fake : 99.8\n",
            "Accuracy show for iter 90 :\n",
            "Real : 98.83 Fake : 99.61\n",
            "Accuracy show for iter 100 :\n",
            "Real : 100.0 Fake : 100.0\n",
            "Accuracy show for iter 110 :\n",
            "Real : 99.61 Fake : 100.0\n",
            "Accuracy show for iter 120 :\n",
            "Real : 99.8 Fake : 99.61\n",
            "Accuracy show for iter 130 :\n",
            "Real : 100.0 Fake : 100.0\n",
            "Accuracy show for iter 140 :\n",
            "Real : 99.22 Fake : 100.0\n",
            "Accuracy show for iter 150 :\n",
            "Real : 100.0 Fake : 100.0\n",
            "Accuracy show for iter 160 :\n",
            "Real : 99.8 Fake : 100.0\n",
            "Accuracy show for iter 170 :\n",
            "Real : 99.8 Fake : 100.0\n",
            "Accuracy show for iter 180 :\n",
            "Real : 100.0 Fake : 100.0\n",
            "Accuracy show for iter 190 :\n",
            "Real : 100.0 Fake : 100.0\n"
          ],
          "name": "stdout"
        }
      ]
    },
    {
      "cell_type": "code",
      "metadata": {
        "id": "OPHe7sSjSYjD",
        "colab_type": "code",
        "colab": {}
      },
      "source": [
        "def generator_fake_samples(model,n_samples):\n",
        "  x_input = np.random.randn(32*32*n_samples)\n",
        "  x_input = x_input.reshape((n_samples,32,32,1))\n",
        "  X = model.predict(x_input)\n",
        "  y = np.zeros((n_samples,4,4,1))\n",
        "  return X,y"
      ],
      "execution_count": 0,
      "outputs": []
    },
    {
      "cell_type": "code",
      "metadata": {
        "id": "BC1dORUjk8Zi",
        "colab_type": "code",
        "colab": {}
      },
      "source": [
        "model = generator((32,32,1))"
      ],
      "execution_count": 0,
      "outputs": []
    },
    {
      "cell_type": "code",
      "metadata": {
        "id": "NyviqXZgUBgB",
        "colab_type": "code",
        "colab": {}
      },
      "source": [
        "X,_ = generator_fake_samples(model,25)"
      ],
      "execution_count": 0,
      "outputs": []
    },
    {
      "cell_type": "markdown",
      "metadata": {
        "id": "V7iaMk2vcqZH",
        "colab_type": "text"
      },
      "source": [
        "Here is a representation of the untrained generator."
      ]
    },
    {
      "cell_type": "code",
      "metadata": {
        "id": "A4D_Ed1NlJWZ",
        "colab_type": "code",
        "outputId": "52facd5c-f180-4b0d-ce89-367bdeb764ee",
        "colab": {
          "base_uri": "https://localhost:8080/",
          "height": 1000
        }
      },
      "source": [
        "plt.figure(figsize=(20,20))\n",
        "for i in range(25):\n",
        "\tplt.subplot(5, 5, 1 + i)\n",
        "\tplt.axis('off')\n",
        "\tplt.imshow(X[i, :, :, 0], cmap='gray_r')"
      ],
      "execution_count": 0,
      "outputs": [
        {
          "output_type": "display_data",
          "data": {
            "image/png": "[encoded data removed]",
            "text/plain": [
              "<Figure size 1440x1440 with 25 Axes>"
            ]
          },
          "metadata": {
            "tags": [],
            "needs_background": "light"
          }
        }
      ]
    },
    {
      "cell_type": "markdown",
      "metadata": {
        "id": "aYdwALCncuJ-",
        "colab_type": "text"
      },
      "source": [
        "Let's now train the generator model.\n",
        "\n",
        "The generators weights are updated with the discriminator performance. Indeed, when the discriminator is performing well at detecting fake samples then the generator receive more update. A contrario, when the disciminator is performing poorly to detect fake samples, the generator is updated less.\n",
        "\n",
        "This is the adversarial relationship between the discriminator and the generator.\n",
        "\n",
        "We will now create a simple approch to combine both models to a pseudo new model."
      ]
    },
    {
      "cell_type": "code",
      "metadata": {
        "id": "U_VWsVZ_cxHi",
        "colab_type": "code",
        "colab": {}
      },
      "source": [
        "def GAN()"
      ],
      "execution_count": 0,
      "outputs": []
    }
  ]
}